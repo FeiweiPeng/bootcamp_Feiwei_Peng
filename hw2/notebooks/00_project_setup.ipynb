{
 "cells": [
  {
   "cell_type": "markdown",
   "id": "2c060b59-8b44-444f-bedf-cfafed11f8e3",
   "metadata": {},
   "source": [
    "## Environment & Config Check"
   ]
  },
  {
   "cell_type": "code",
   "execution_count": 4,
   "id": "c4833ad2-ff97-4d9e-8da7-05344371749c",
   "metadata": {},
   "outputs": [
    {
     "name": "stdout",
     "output_type": "stream",
     "text": [
      "API_KEY present: True\n",
      "Array sum: 6\n"
     ]
    }
   ],
   "source": [
    "import sys, os\n",
    "sys.path.append(os.path.abspath(\"..\"))\n",
    "from src.config import load_env, get_key\n",
    "import numpy as np\n",
    "\n",
    "# Load environment variables\n",
    "load_env()\n",
    "\n",
    "# Check if API_KEY exists\n",
    "print(\"API_KEY present:\", get_key(\"API_KEY\") is not None)\n",
    "\n",
    "# Simple NumPy check\n",
    "arr = np.array([1, 2, 3])\n",
    "print(\"Array sum:\", np.sum(arr))"
   ]
  },
  {
   "cell_type": "code",
   "execution_count": null,
   "id": "096697f3-7c7f-464f-83a6-b1e66d8e0496",
   "metadata": {},
   "outputs": [],
   "source": []
  },
  {
   "cell_type": "code",
   "execution_count": null,
   "id": "d413a301-dc36-4c42-ab28-1b12ada5e54c",
   "metadata": {},
   "outputs": [],
   "source": []
  }
 ],
 "metadata": {
  "kernelspec": {
   "display_name": "Python 3 (ipykernel)",
   "language": "python",
   "name": "python3"
  },
  "language_info": {
   "codemirror_mode": {
    "name": "ipython",
    "version": 3
   },
   "file_extension": ".py",
   "mimetype": "text/x-python",
   "name": "python",
   "nbconvert_exporter": "python",
   "pygments_lexer": "ipython3",
   "version": "3.10.18"
  }
 },
 "nbformat": 4,
 "nbformat_minor": 5
}
