{
 "cells": [
  {
   "cell_type": "markdown",
<<<<<<< HEAD:hw2/notebooks/00_project_setup.ipynb
   "id": "2c060b59-8b44-444f-bedf-cfafed11f8e3",
   "metadata": {},
   "source": [
    "## Environment & Config Check"
=======
   "id": "97af63d3-3bf7-4d27-aa9e-f0499699e90f",
   "metadata": {},
   "source": [
    "# Environment & Config Check"
>>>>>>> b822917 (Reorganize project):homework/stage02_tooling-setup_slides-outline/notebooks/00_project_setup.ipynb
   ]
  },
  {
   "cell_type": "code",
<<<<<<< HEAD:hw2/notebooks/00_project_setup.ipynb
   "execution_count": 4,
   "id": "c4833ad2-ff97-4d9e-8da7-05344371749c",
   "metadata": {},
   "outputs": [
    {
     "name": "stdout",
     "output_type": "stream",
     "text": [
      "API_KEY present: True\n",
      "Array sum: 6\n"
=======
   "execution_count": 2,
   "id": "74831000-4a1f-4f89-abdf-f83222ba2b95",
   "metadata": {},
   "outputs": [
    {
     "ename": "ModuleNotFoundError",
     "evalue": "No module named 'src'",
     "output_type": "error",
     "traceback": [
      "\u001b[31m---------------------------------------------------------------------------\u001b[39m",
      "\u001b[31mModuleNotFoundError\u001b[39m                       Traceback (most recent call last)",
      "\u001b[36mCell\u001b[39m\u001b[36m \u001b[39m\u001b[32mIn[2]\u001b[39m\u001b[32m, line 1\u001b[39m\n\u001b[32m----> \u001b[39m\u001b[32m1\u001b[39m \u001b[38;5;28;01mfrom\u001b[39;00m\u001b[38;5;250m \u001b[39m\u001b[34;01msrc\u001b[39;00m\u001b[34;01m.\u001b[39;00m\u001b[34;01mconfig\u001b[39;00m\u001b[38;5;250m \u001b[39m\u001b[38;5;28;01mimport\u001b[39;00m load_env, get_key\n\u001b[32m      2\u001b[39m \u001b[38;5;28;01mimport\u001b[39;00m\u001b[38;5;250m \u001b[39m\u001b[34;01mnumpy\u001b[39;00m\u001b[38;5;250m \u001b[39m\u001b[38;5;28;01mas\u001b[39;00m\u001b[38;5;250m \u001b[39m\u001b[34;01mnp\u001b[39;00m\n\u001b[32m      4\u001b[39m \u001b[38;5;66;03m# Load environment variables\u001b[39;00m\n",
      "\u001b[31mModuleNotFoundError\u001b[39m: No module named 'src'"
>>>>>>> b822917 (Reorganize project):homework/stage02_tooling-setup_slides-outline/notebooks/00_project_setup.ipynb
     ]
    }
   ],
   "source": [
<<<<<<< HEAD:hw2/notebooks/00_project_setup.ipynb
    "import sys, os\n",
    "sys.path.append(os.path.abspath(\"..\"))\n",
=======
>>>>>>> b822917 (Reorganize project):homework/stage02_tooling-setup_slides-outline/notebooks/00_project_setup.ipynb
    "from src.config import load_env, get_key\n",
    "import numpy as np\n",
    "\n",
    "# Load environment variables\n",
    "load_env()\n",
    "\n",
    "# Check if API_KEY exists\n",
    "print(\"API_KEY present:\", get_key(\"API_KEY\") is not None)\n",
    "\n",
    "# Simple NumPy check\n",
    "arr = np.array([1, 2, 3])\n",
    "print(\"Array sum:\", np.sum(arr))"
   ]
  },
  {
   "cell_type": "code",
   "execution_count": null,
<<<<<<< HEAD:hw2/notebooks/00_project_setup.ipynb
   "id": "096697f3-7c7f-464f-83a6-b1e66d8e0496",
   "metadata": {},
   "outputs": [],
   "source": []
  },
  {
   "cell_type": "code",
   "execution_count": null,
   "id": "d413a301-dc36-4c42-ab28-1b12ada5e54c",
=======
   "id": "68959c79-189e-4e3d-94ab-871a0c068db7",
>>>>>>> b822917 (Reorganize project):homework/stage02_tooling-setup_slides-outline/notebooks/00_project_setup.ipynb
   "metadata": {},
   "outputs": [],
   "source": []
  }
 ],
 "metadata": {
  "kernelspec": {
   "display_name": "Python 3 (ipykernel)",
   "language": "python",
   "name": "python3"
  },
  "language_info": {
   "codemirror_mode": {
    "name": "ipython",
    "version": 3
   },
   "file_extension": ".py",
   "mimetype": "text/x-python",
   "name": "python",
   "nbconvert_exporter": "python",
   "pygments_lexer": "ipython3",
<<<<<<< HEAD:hw2/notebooks/00_project_setup.ipynb
   "version": "3.10.18"
=======
   "version": "3.13.5"
>>>>>>> b822917 (Reorganize project):homework/stage02_tooling-setup_slides-outline/notebooks/00_project_setup.ipynb
  }
 },
 "nbformat": 4,
 "nbformat_minor": 5
}
